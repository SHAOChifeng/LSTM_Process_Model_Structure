{
 "cells": [
  {
   "cell_type": "code",
   "execution_count": 1,
   "id": "bbf5c498",
   "metadata": {},
   "outputs": [],
   "source": [
    "from pm4py.algo.simulation.tree_generator import algorithm  as tree_gen\n",
    "\n",
    "from pm4py.algo.simulation.playout.process_tree import algorithm as tree_playout\n",
    "\n",
    "from pm4py.objects.process_tree.exporter import exporter as ptml_exporter"
   ]
  },
  {
   "cell_type": "code",
   "execution_count": 2,
   "id": "35fbbf05",
   "metadata": {},
   "outputs": [],
   "source": [
    "min_variants = 80\n",
    "max_variants = 160\n",
    "min_length = 5"
   ]
  },
  {
   "cell_type": "code",
   "execution_count": 3,
   "id": "a502b6fe",
   "metadata": {},
   "outputs": [],
   "source": [
    "def get_percentages_tree(tree):\n",
    "    seq = str(tree).count('->')\n",
    "    par = str(tree).count('+')\n",
    "    cho = str(tree).count('X')\n",
    "    return ([(seq/(seq+par+cho)), (cho/(seq+par+cho)), (par/(seq+par+cho))])"
   ]
  },
  {
   "cell_type": "code",
   "execution_count": 4,
   "id": "c348668c",
   "metadata": {},
   "outputs": [],
   "source": [
    "def distance(list1, list2):\n",
    "    \"\"\"Distance between two vectors.\"\"\"\n",
    "    squares = [(p-q) ** 2 for p, q in zip(list1, list2)]\n",
    "    return sum(squares) ** .5"
   ]
  },
  {
   "cell_type": "code",
   "execution_count": 5,
   "id": "50023e21",
   "metadata": {},
   "outputs": [],
   "source": [
    "def pick_most_optimal(percentages, number_of_variants, minimum_lengths, opt_percentages, min_variants, max_variants, min_length): #returns index of the best fitting tree\n",
    "    distances = []\n",
    "    original_indices = []\n",
    "    for i in range(0, len(percentages)):\n",
    "        if min_variants <= number_of_variants[i] <= max_variants and minimum_lengths[i] > min_length:\n",
    "            original_indices.append(i)\n",
    "            distances.append(distance(percentages[i],opt_percentages))\n",
    "    if len(distances) == 0:\n",
    "        print(\"ERROR\", opt_percentages)\n",
    "        return False, 0\n",
    "    else:\n",
    "        min_value = min(distances)\n",
    "        min_index = distances.index(min_value)\n",
    "        return True, original_indices[min_index]\n",
    "        "
   ]
  },
  {
   "cell_type": "code",
   "execution_count": 10,
   "id": "1f4d3f27",
   "metadata": {},
   "outputs": [
    {
     "name": "stdout",
     "output_type": "stream",
     "text": [
      "Trees/tree_par45.ptml\n",
      "Saved\n"
     ]
    }
   ],
   "source": [
    "parallel_options = [0.0, 0.05, 0.10, 0.15, 0.20, 0.25, 0.30, 0.35, 0.40, 0.45, 0.50]\n",
    "\n",
    "#changed it so it guarantees to only look at trees with exact percentages\n",
    "\n",
    "for parallel in parallel_options:\n",
    "    trees = []\n",
    "    percentages = [] #the percentages of each of the operators in a tree \n",
    "    number_of_variants = []\n",
    "    minimum_lengths = []\n",
    "    filename = \"Trees/tree_par\" + \"{:.2f}\".format(parallel)[2:] + \".ptml\"\n",
    "    print(filename)\n",
    "    choice = 0.5 - parallel\n",
    "    opt_percentages = [0.5, choice, parallel]\n",
    "    for mode_act in range(10,25):\n",
    "        min_act = mode_act - 1\n",
    "        max_act = mode_act + 1\n",
    "        for i in range(0,150):    \n",
    "            parameters = {\"sequence\":0.5, \"choice\":choice, \"parallel\":parallel, \"loop\":0.0,\n",
    "                          \"or\":0.0,\"mode\":mode_act, \"min\":min_act, \"max\":max_act,\"silent\":0.0, \"duplicate\":0.0, \n",
    "                          \"lt_dependency\": 0.0, \"infrequent\":0.0,\"no_models\":1, \"unfold\":0, \"max_repeat\":3}\n",
    "            tree = tree_gen.apply(parameters=parameters)\n",
    "            if round(get_percentages_tree(tree)[2],2) == opt_percentages[2]:\n",
    "                trees.append(tree)\n",
    "                percentages.append(get_percentages_tree(tree))\n",
    "                playout_variant = tree_playout.Variants.EXTENSIVE\n",
    "                param = tree_playout.Variants.EXTENSIVE.value.Parameters\n",
    "                variants = tree_playout.apply(tree, variant=playout_variant, parameters={param.MAX_TRACE_LENGTH: 200, param.MAX_LOOP_OCC: 3, param.MAX_LIMIT_NUM_TRACES: 200})\n",
    "                number_of_variants.append(len(variants))\n",
    "                minimum_lengths.append(min(map(len, variants)))\n",
    "    success, index = pick_most_optimal(percentages, number_of_variants, minimum_lengths, opt_percentages, min_variants, max_variants, min_length)\n",
    "    if success == False:\n",
    "        print(\"PROBLEM\")\n",
    "    else:\n",
    "        print(\"Saved\")\n",
    "        ptml_exporter.apply(trees[index], filename)\n",
    "    "
   ]
  },
  {
   "cell_type": "code",
   "execution_count": 6,
   "id": "44f3178f",
   "metadata": {},
   "outputs": [
    {
     "name": "stdout",
     "output_type": "stream",
     "text": [
      "Trees/tree_par20.ptml\n",
      "Saved\n",
      "Trees/tree_par30.ptml\n",
      "Saved\n",
      "Trees/tree_par35.ptml\n"
     ]
    },
    {
     "ename": "KeyboardInterrupt",
     "evalue": "",
     "output_type": "error",
     "traceback": [
      "\u001b[1;31m---------------------------------------------------------------------------\u001b[0m",
      "\u001b[1;31mKeyboardInterrupt\u001b[0m                         Traceback (most recent call last)",
      "\u001b[1;32m~\\AppData\\Local\\Temp/ipykernel_5300/3232533404.py\u001b[0m in \u001b[0;36m<module>\u001b[1;34m\u001b[0m\n\u001b[0;32m     22\u001b[0m             \u001b[0mplayout_variant\u001b[0m \u001b[1;33m=\u001b[0m \u001b[0mtree_playout\u001b[0m\u001b[1;33m.\u001b[0m\u001b[0mVariants\u001b[0m\u001b[1;33m.\u001b[0m\u001b[0mEXTENSIVE\u001b[0m\u001b[1;33m\u001b[0m\u001b[1;33m\u001b[0m\u001b[0m\n\u001b[0;32m     23\u001b[0m             \u001b[0mparam\u001b[0m \u001b[1;33m=\u001b[0m \u001b[0mtree_playout\u001b[0m\u001b[1;33m.\u001b[0m\u001b[0mVariants\u001b[0m\u001b[1;33m.\u001b[0m\u001b[0mEXTENSIVE\u001b[0m\u001b[1;33m.\u001b[0m\u001b[0mvalue\u001b[0m\u001b[1;33m.\u001b[0m\u001b[0mParameters\u001b[0m\u001b[1;33m\u001b[0m\u001b[1;33m\u001b[0m\u001b[0m\n\u001b[1;32m---> 24\u001b[1;33m             \u001b[0mvariants\u001b[0m \u001b[1;33m=\u001b[0m \u001b[0mtree_playout\u001b[0m\u001b[1;33m.\u001b[0m\u001b[0mapply\u001b[0m\u001b[1;33m(\u001b[0m\u001b[0mtree\u001b[0m\u001b[1;33m,\u001b[0m \u001b[0mvariant\u001b[0m\u001b[1;33m=\u001b[0m\u001b[0mplayout_variant\u001b[0m\u001b[1;33m,\u001b[0m \u001b[0mparameters\u001b[0m\u001b[1;33m=\u001b[0m\u001b[1;33m{\u001b[0m\u001b[0mparam\u001b[0m\u001b[1;33m.\u001b[0m\u001b[0mMAX_TRACE_LENGTH\u001b[0m\u001b[1;33m:\u001b[0m \u001b[1;36m200\u001b[0m\u001b[1;33m,\u001b[0m \u001b[0mparam\u001b[0m\u001b[1;33m.\u001b[0m\u001b[0mMAX_LOOP_OCC\u001b[0m\u001b[1;33m:\u001b[0m \u001b[1;36m3\u001b[0m\u001b[1;33m,\u001b[0m \u001b[0mparam\u001b[0m\u001b[1;33m.\u001b[0m\u001b[0mMAX_LIMIT_NUM_TRACES\u001b[0m\u001b[1;33m:\u001b[0m \u001b[1;36m200\u001b[0m\u001b[1;33m}\u001b[0m\u001b[1;33m)\u001b[0m\u001b[1;33m\u001b[0m\u001b[1;33m\u001b[0m\u001b[0m\n\u001b[0m\u001b[0;32m     25\u001b[0m             \u001b[0mnumber_of_variants\u001b[0m\u001b[1;33m.\u001b[0m\u001b[0mappend\u001b[0m\u001b[1;33m(\u001b[0m\u001b[0mlen\u001b[0m\u001b[1;33m(\u001b[0m\u001b[0mvariants\u001b[0m\u001b[1;33m)\u001b[0m\u001b[1;33m)\u001b[0m\u001b[1;33m\u001b[0m\u001b[1;33m\u001b[0m\u001b[0m\n\u001b[0;32m     26\u001b[0m             \u001b[0mminimum_lengths\u001b[0m\u001b[1;33m.\u001b[0m\u001b[0mappend\u001b[0m\u001b[1;33m(\u001b[0m\u001b[0mmin\u001b[0m\u001b[1;33m(\u001b[0m\u001b[0mmap\u001b[0m\u001b[1;33m(\u001b[0m\u001b[0mlen\u001b[0m\u001b[1;33m,\u001b[0m \u001b[0mvariants\u001b[0m\u001b[1;33m)\u001b[0m\u001b[1;33m)\u001b[0m\u001b[1;33m)\u001b[0m\u001b[1;33m\u001b[0m\u001b[1;33m\u001b[0m\u001b[0m\n",
      "\u001b[1;32m~\\Anaconda3\\lib\\site-packages\\pm4py\\algo\\simulation\\playout\\process_tree\\algorithm.py\u001b[0m in \u001b[0;36mapply\u001b[1;34m(tree, variant, parameters)\u001b[0m\n\u001b[0;32m     51\u001b[0m         \u001b[0mparameters\u001b[0m \u001b[1;33m=\u001b[0m \u001b[1;33m{\u001b[0m\u001b[1;33m}\u001b[0m\u001b[1;33m\u001b[0m\u001b[1;33m\u001b[0m\u001b[0m\n\u001b[0;32m     52\u001b[0m \u001b[1;33m\u001b[0m\u001b[0m\n\u001b[1;32m---> 53\u001b[1;33m     \u001b[1;32mreturn\u001b[0m \u001b[0mexec_utils\u001b[0m\u001b[1;33m.\u001b[0m\u001b[0mget_variant\u001b[0m\u001b[1;33m(\u001b[0m\u001b[0mvariant\u001b[0m\u001b[1;33m)\u001b[0m\u001b[1;33m.\u001b[0m\u001b[0mapply\u001b[0m\u001b[1;33m(\u001b[0m\u001b[0mtree\u001b[0m\u001b[1;33m,\u001b[0m \u001b[0mparameters\u001b[0m\u001b[1;33m=\u001b[0m\u001b[0mparameters\u001b[0m\u001b[1;33m)\u001b[0m\u001b[1;33m\u001b[0m\u001b[1;33m\u001b[0m\u001b[0m\n\u001b[0m",
      "\u001b[1;32m~\\Anaconda3\\lib\\site-packages\\pm4py\\algo\\simulation\\playout\\process_tree\\variants\\extensive.py\u001b[0m in \u001b[0;36mapply\u001b[1;34m(tree, parameters)\u001b[0m\n\u001b[0;32m    326\u001b[0m     \u001b[0mplayout_dictio\u001b[0m \u001b[1;33m=\u001b[0m \u001b[1;33m{\u001b[0m\u001b[1;33m}\u001b[0m\u001b[1;33m\u001b[0m\u001b[1;33m\u001b[0m\u001b[0m\n\u001b[0;32m    327\u001b[0m     \u001b[1;32mfor\u001b[0m \u001b[0mi\u001b[0m \u001b[1;32min\u001b[0m \u001b[0mrange\u001b[0m\u001b[1;33m(\u001b[0m\u001b[0mlen\u001b[0m\u001b[1;33m(\u001b[0m\u001b[0mbottomup\u001b[0m\u001b[1;33m)\u001b[0m\u001b[1;33m)\u001b[0m\u001b[1;33m:\u001b[0m\u001b[1;33m\u001b[0m\u001b[1;33m\u001b[0m\u001b[0m\n\u001b[1;32m--> 328\u001b[1;33m         get_playout(bottomup[i], playout_dictio, min_trace_length, max_trace_length, max_loop_occ, min_rem_dict,\n\u001b[0m\u001b[0;32m    329\u001b[0m                     max_rem_dict, max_limit_num_traces)\n\u001b[0;32m    330\u001b[0m     \u001b[0mtree_playout_traces\u001b[0m \u001b[1;33m=\u001b[0m \u001b[0mplayout_dictio\u001b[0m\u001b[1;33m[\u001b[0m\u001b[0mtree\u001b[0m\u001b[1;33m]\u001b[0m\u001b[1;33m[\u001b[0m\u001b[0mTRACES\u001b[0m\u001b[1;33m]\u001b[0m\u001b[1;33m\u001b[0m\u001b[1;33m\u001b[0m\u001b[0m\n",
      "\u001b[1;32m~\\Anaconda3\\lib\\site-packages\\pm4py\\algo\\simulation\\playout\\process_tree\\variants\\extensive.py\u001b[0m in \u001b[0;36mget_playout\u001b[1;34m(node, playout_dictio, min_trace_length, max_trace_length, max_loop_occ, min_rem_dict, max_rem_dict, max_limit_num_traces)\u001b[0m\n\u001b[0;32m    273\u001b[0m                         max_rem_dict, max_limit_num_traces)\n\u001b[0;32m    274\u001b[0m     \u001b[1;32melif\u001b[0m \u001b[0mnode\u001b[0m\u001b[1;33m.\u001b[0m\u001b[0moperator\u001b[0m \u001b[1;33m==\u001b[0m \u001b[0mOperator\u001b[0m\u001b[1;33m.\u001b[0m\u001b[0mPARALLEL\u001b[0m\u001b[1;33m:\u001b[0m\u001b[1;33m\u001b[0m\u001b[1;33m\u001b[0m\u001b[0m\n\u001b[1;32m--> 275\u001b[1;33m         get_playout_parallel(node, playout_dictio, min_trace_length, max_trace_length, max_loop_occ, min_rem_dict,\n\u001b[0m\u001b[0;32m    276\u001b[0m                              max_rem_dict, max_limit_num_traces)\n\u001b[0;32m    277\u001b[0m     \u001b[1;32melif\u001b[0m \u001b[0mnode\u001b[0m\u001b[1;33m.\u001b[0m\u001b[0moperator\u001b[0m \u001b[1;33m==\u001b[0m \u001b[0mOperator\u001b[0m\u001b[1;33m.\u001b[0m\u001b[0mSEQUENCE\u001b[0m\u001b[1;33m:\u001b[0m\u001b[1;33m\u001b[0m\u001b[1;33m\u001b[0m\u001b[0m\n",
      "\u001b[1;32m~\\Anaconda3\\lib\\site-packages\\pm4py\\algo\\simulation\\playout\\process_tree\\variants\\extensive.py\u001b[0m in \u001b[0;36mget_playout_parallel\u001b[1;34m(node, playout_dictio, min_trace_length, max_trace_length, max_loop_occ, min_rem_dict, max_rem_dict, max_limit_num_traces)\u001b[0m\n\u001b[0;32m    183\u001b[0m         \u001b[0mto_visit\u001b[0m \u001b[1;33m=\u001b[0m \u001b[1;33m[\u001b[0m\u001b[1;33m[\u001b[0m\u001b[1;33m[\u001b[0m\u001b[1;33m]\u001b[0m\u001b[1;33m]\u001b[0m \u001b[1;33m+\u001b[0m \u001b[1;33m[\u001b[0m\u001b[0mlen\u001b[0m\u001b[1;33m(\u001b[0m\u001b[0my\u001b[0m\u001b[1;33m)\u001b[0m \u001b[1;32mfor\u001b[0m \u001b[0my\u001b[0m \u001b[1;32min\u001b[0m \u001b[0mx\u001b[0m\u001b[1;33m]\u001b[0m\u001b[1;33m]\u001b[0m\u001b[1;33m\u001b[0m\u001b[1;33m\u001b[0m\u001b[0m\n\u001b[0;32m    184\u001b[0m         \u001b[1;32mwhile\u001b[0m \u001b[0mlen\u001b[0m\u001b[1;33m(\u001b[0m\u001b[0mto_visit\u001b[0m\u001b[1;33m)\u001b[0m \u001b[1;33m>\u001b[0m \u001b[1;36m0\u001b[0m\u001b[1;33m:\u001b[0m\u001b[1;33m\u001b[0m\u001b[1;33m\u001b[0m\u001b[0m\n\u001b[1;32m--> 185\u001b[1;33m             \u001b[0mcurr\u001b[0m \u001b[1;33m=\u001b[0m \u001b[0mto_visit\u001b[0m\u001b[1;33m.\u001b[0m\u001b[0mpop\u001b[0m\u001b[1;33m(\u001b[0m\u001b[1;36m0\u001b[0m\u001b[1;33m)\u001b[0m\u001b[1;33m\u001b[0m\u001b[1;33m\u001b[0m\u001b[0m\n\u001b[0m\u001b[0;32m    186\u001b[0m             \u001b[0mpossible_choices\u001b[0m \u001b[1;33m=\u001b[0m \u001b[1;33m[\u001b[0m\u001b[0mi\u001b[0m \u001b[1;33m-\u001b[0m \u001b[1;36m1\u001b[0m \u001b[1;32mfor\u001b[0m \u001b[0mi\u001b[0m \u001b[1;32min\u001b[0m \u001b[0mrange\u001b[0m\u001b[1;33m(\u001b[0m\u001b[1;36m1\u001b[0m\u001b[1;33m,\u001b[0m \u001b[0mlen\u001b[0m\u001b[1;33m(\u001b[0m\u001b[0mcurr\u001b[0m\u001b[1;33m)\u001b[0m\u001b[1;33m)\u001b[0m \u001b[1;32mif\u001b[0m \u001b[0mcurr\u001b[0m\u001b[1;33m[\u001b[0m\u001b[0mi\u001b[0m\u001b[1;33m]\u001b[0m \u001b[1;33m>\u001b[0m \u001b[1;36m0\u001b[0m\u001b[1;33m]\u001b[0m\u001b[1;33m\u001b[0m\u001b[1;33m\u001b[0m\u001b[0m\n\u001b[0;32m    187\u001b[0m             \u001b[1;32mfor\u001b[0m \u001b[0mj\u001b[0m \u001b[1;32min\u001b[0m \u001b[0mpossible_choices\u001b[0m\u001b[1;33m:\u001b[0m\u001b[1;33m\u001b[0m\u001b[1;33m\u001b[0m\u001b[0m\n",
      "\u001b[1;31mKeyboardInterrupt\u001b[0m: "
     ]
    }
   ],
   "source": [
    "'''parallel_options = [0.45]\n",
    "\n",
    "\n",
    "\n",
    "for parallel in parallel_options:\n",
    "    trees = []\n",
    "    percentages = [] #the percentages of each of the operators in a tree \n",
    "    number_of_variants = []\n",
    "    minimum_lengths = []\n",
    "    filename = \"Trees/tree_par\" + \"{:.2f}\".format(parallel)[2:] + \".ptml\"\n",
    "    print(filename)\n",
    "    choice = 0.5 - parallel\n",
    "    opt_percentages = [0.5, choice, parallel]\n",
    "    for mode_act in range(10,25):\n",
    "        min_act = mode_act - 1\n",
    "        max_act = mode_act + 1\n",
    "        for i in range(0,300):    \n",
    "            parameters = {\"sequence\":0.5, \"choice\":choice, \"parallel\":parallel, \"loop\":0.0,\n",
    "                          \"or\":0.0,\"mode\":mode_act, \"min\":min_act, \"max\":max_act,\"silent\":0.0, \"duplicate\":0.0, \n",
    "                          \"lt_dependency\": 0.0, \"infrequent\":0.0,\"no_models\":1, \"unfold\":0, \"max_repeat\":3}\n",
    "            tree = tree_gen.apply(parameters=parameters)\n",
    "            trees.append(tree)\n",
    "            percentages.append(get_percentages_tree(tree))\n",
    "            playout_variant = tree_playout.Variants.EXTENSIVE\n",
    "            param = tree_playout.Variants.EXTENSIVE.value.Parameters\n",
    "            variants = tree_playout.apply(tree, variant=playout_variant, parameters={param.MAX_TRACE_LENGTH: 200, param.MAX_LOOP_OCC: 3, param.MAX_LIMIT_NUM_TRACES: 200})\n",
    "            number_of_variants.append(len(variants))\n",
    "            minimum_lengths.append(min(map(len, variants)))\n",
    "    success, index = pick_most_optimal(percentages, number_of_variants, minimum_lengths, opt_percentages, min_variants, max_variants, min_length)\n",
    "    if success == False:\n",
    "        print(\"PROBLEM\")\n",
    "    else:\n",
    "        print(\"Saved\")\n",
    "        ptml_exporter.apply(trees[index], filename)\n",
    "    \n",
    "'''    "
   ]
  }
 ],
 "metadata": {
  "kernelspec": {
   "display_name": "Python 3 (ipykernel)",
   "language": "python",
   "name": "python3"
  },
  "language_info": {
   "codemirror_mode": {
    "name": "ipython",
    "version": 3
   },
   "file_extension": ".py",
   "mimetype": "text/x-python",
   "name": "python",
   "nbconvert_exporter": "python",
   "pygments_lexer": "ipython3",
   "version": "3.8.8"
  }
 },
 "nbformat": 4,
 "nbformat_minor": 5
}
