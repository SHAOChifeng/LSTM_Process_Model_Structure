{
 "cells": [
  {
   "cell_type": "markdown",
   "id": "b9c66657",
   "metadata": {},
   "source": [
    "# with regularization, original models"
   ]
  },
  {
   "cell_type": "code",
   "execution_count": 1,
   "id": "33f2f029",
   "metadata": {},
   "outputs": [],
   "source": [
    "import pandas as pd\n",
    "\n",
    "import numpy as np\n",
    "\n",
    "import math\n",
    "\n",
    "import copy\n",
    "\n",
    "import matplotlib.pyplot as plt\n",
    "\n",
    "import statistics"
   ]
  },
  {
   "cell_type": "code",
   "execution_count": 2,
   "id": "8fce821f",
   "metadata": {},
   "outputs": [],
   "source": [
    "def get_average_and_std(lst): \n",
    "    return(sum(lst)/len(lst), statistics.stdev(lst))\n",
    "\n",
    "def remove_nan_and_float(lists):\n",
    "    newlists = []\n",
    "    for tr in lists:\n",
    "        newlists.append([int(x) for x in tr if str(x) != 'nan'])\n",
    "    return(newlists)\n",
    "\n",
    "def import_log(filepath):\n",
    "    df = pd.read_csv(filepath)\n",
    "    return(remove_nan_and_float(df.values.tolist()))\n",
    "\n",
    "def count_variant(log, variant): #count how many times a variant comes up in list\n",
    "    c = 0\n",
    "    for trace in log:\n",
    "        if trace == variant:\n",
    "            c += 1\n",
    "    return(c)\n",
    "\n",
    "def get_counts(log, variants):\n",
    "    counts = []\n",
    "    for var in variants:\n",
    "        counts.append(count_variant(log, var))\n",
    "    return counts\n",
    "\n",
    "def get_variants_list(lst): #get all of the variants in a list, return as list\n",
    "    st = set(tuple(i) for i in lst) #convert list into set of tuples\n",
    "    lst2 = list(st) #convert set of tuples into lsit of tuples\n",
    "    return [list(e) for e in lst2] "
   ]
  },
  {
   "cell_type": "code",
   "execution_count": 3,
   "id": "0f5357c0",
   "metadata": {},
   "outputs": [],
   "source": [
    "def get_fitness(occ_each_trvar_sim, occ_each_trvar_tr):\n",
    "    arr = [min(occ_each_trvar_sim[i], occ_each_trvar_tr[i])/sum(occ_each_trvar_tr) for i in range(0, len(occ_each_trvar_sim))]\n",
    "    return sum(arr)\n",
    "\n",
    "def get_precision(occ_each_simvar_sim, occ_each_simvar_trte):\n",
    "    arr = [min(occ_each_simvar_sim[i], occ_each_simvar_trte[i])/sum(occ_each_simvar_sim) for i in range(0, len(occ_each_simvar_sim))]\n",
    "    return sum(arr)\n",
    "\n",
    "def get_generalization(occ_each_tevar_sim, occ_each_tevar_te):\n",
    "    arr = [min(occ_each_tevar_sim[i], occ_each_tevar_te[i])/sum(occ_each_tevar_te) for i in range(0, len(occ_each_tevar_sim))]\n",
    "    return sum(arr)"
   ]
  },
  {
   "cell_type": "code",
   "execution_count": 4,
   "id": "47ae05f7",
   "metadata": {},
   "outputs": [],
   "source": [
    "def LOVOCV(modelname):\n",
    "    variants = import_log('Variants/CSV/Variants_'+modelname+'.csv')\n",
    "    traintestlog = import_log('Full_Logs/CSV/Log_'+modelname+'.csv')\n",
    "    \n",
    "    overall_counts = get_counts(traintestlog, variants) #list for the count of each variant in original log\n",
    "    \n",
    "    fitness_arr = []\n",
    "    precision_arr = []\n",
    "    generalization_arr = []\n",
    "    \n",
    "    for i_var in range(0, len(variants)):\n",
    "        train_log = import_log('LOVOCV/'+modelname+'/Training_Logs/Train'+str(i_var)+\".csv\")\n",
    "        test_log = import_log('LOVOCV/'+modelname+'/Test_Logs/Test'+str(i_var)+\".csv\")\n",
    "        sim_log = import_log('LOVOCV/'+modelname+'/Simulated_Logs/Sim'+str(i_var)+\".csv\")\n",
    "        \n",
    "        #needed to calculate metrics\n",
    "        trvar = get_variants_list(train_log)\n",
    "        simvar = get_variants_list(sim_log)\n",
    "        tevar = get_variants_list(test_log) \n",
    "        \n",
    "        occ_each_trvar_sim = get_counts(sim_log, trvar)\n",
    "        occ_each_tevar_sim = get_counts(sim_log, tevar)\n",
    "        occ_each_simvar_sim = get_counts(sim_log, simvar)\n",
    "        \n",
    "        #get counts for the train log\n",
    "        occ_each_trvar_tr = get_counts(train_log, trvar)\n",
    "\n",
    "        #get counts for the test log\n",
    "        occ_each_tevar_te = get_counts(test_log, tevar)\n",
    "\n",
    "        #get counts for the train test log\n",
    "        occ_each_simvar_trte = get_counts(traintestlog, simvar)\n",
    "\n",
    "        fitness_arr.append(get_fitness(occ_each_trvar_sim, occ_each_trvar_tr))\n",
    "        precision_arr.append(get_precision(occ_each_simvar_sim, occ_each_simvar_trte))\n",
    "        generalization_arr.append(get_generalization(occ_each_tevar_sim, occ_each_tevar_te))\n",
    "    \n",
    "    generalization_ave, generalization_std = get_average_and_std(generalization_arr)\n",
    "    precision_ave, precision_std = get_average_and_std(precision_arr)\n",
    "    fitness_ave, fitness_std = get_average_and_std(fitness_arr)\n",
    "    \n",
    "    return fitness_ave, fitness_std, precision_ave, precision_std, generalization_ave, generalization_std"
   ]
  },
  {
   "cell_type": "code",
   "execution_count": 5,
   "id": "7579332b",
   "metadata": {},
   "outputs": [],
   "source": [
    "def get_abs_fitness(occ_each_trvar_sim, occ_each_trvar_tr):\n",
    "    fit = 0\n",
    "    for i in range(0, len(occ_each_trvar_sim)):\n",
    "        if occ_each_trvar_sim[i] > 0:\n",
    "            fit = fit + 1\n",
    "    fit = fit/len(occ_each_trvar_sim)\n",
    "    return fit\n",
    "\n",
    "def get_abs_precision(occ_each_simvar_sim, occ_each_simvar_trte):\n",
    "    prec = 0\n",
    "    for i in range(0, len(occ_each_simvar_trte)):\n",
    "        if occ_each_simvar_trte[i] > 0:\n",
    "            prec = prec + 1\n",
    "    prec = prec/len(occ_each_simvar_trte)\n",
    "    return prec\n",
    "\n",
    "def get_abs_generalization(occ_each_tevar_sim, occ_each_tevar_te):\n",
    "    gen = 0.0\n",
    "    for i in range(0, len(occ_each_tevar_sim)):\n",
    "        if occ_each_tevar_sim[i] > 0:\n",
    "            gen = gen + 1.0\n",
    "    gen = gen/len(occ_each_tevar_sim)\n",
    "    return gen\n",
    "\n",
    "def Abs_LOVOCV(modelname):\n",
    "    variants = import_log('Variants/CSV/Variants_'+modelname+'.csv')\n",
    "    traintestlog = import_log('Full_Logs/CSV/Log_'+modelname+'.csv')\n",
    "    \n",
    "    overall_counts = get_counts(traintestlog, variants) #list for the count of each variant in original log\n",
    "    \n",
    "    fitness_arr = []\n",
    "    precision_arr = []\n",
    "    generalization_arr = []\n",
    "    \n",
    "    for i_var in range(0, len(variants)):\n",
    "        train_log = import_log('LOVOCV/'+modelname+'/Training_Logs/Train'+str(i_var)+\".csv\")\n",
    "        test_log = import_log('LOVOCV/'+modelname+'/Test_Logs/Test'+str(i_var)+\".csv\")\n",
    "        sim_log = import_log('LOVOCV/'+modelname+'/Simulated_Logs/Sim'+str(i_var)+\".csv\")\n",
    "        \n",
    "        #needed to calculate metrics\n",
    "        trvar = get_variants_list(train_log)\n",
    "        simvar = get_variants_list(sim_log)\n",
    "        tevar = get_variants_list(test_log) \n",
    "        \n",
    "        occ_each_trvar_sim = get_counts(sim_log, trvar)\n",
    "        occ_each_tevar_sim = get_counts(sim_log, tevar)\n",
    "        occ_each_simvar_sim = get_counts(sim_log, simvar)\n",
    "        \n",
    "        #get counts for the train log\n",
    "        occ_each_trvar_tr = get_counts(train_log, trvar)\n",
    "\n",
    "        #get counts for the test log\n",
    "        occ_each_tevar_te = get_counts(test_log, tevar)\n",
    "\n",
    "        #get counts for the train test log\n",
    "        occ_each_simvar_trte = get_counts(traintestlog, simvar)\n",
    "\n",
    "        fitness_arr.append(get_abs_fitness(occ_each_trvar_sim, occ_each_trvar_tr))\n",
    "        precision_arr.append(get_abs_precision(occ_each_simvar_sim, occ_each_simvar_trte))\n",
    "        generalization_arr.append(get_abs_generalization(occ_each_tevar_sim, occ_each_tevar_te))\n",
    "    \n",
    "    generalization_ave, generalization_std = get_average_and_std(generalization_arr)\n",
    "    precision_ave, precision_std = get_average_and_std(precision_arr)\n",
    "    fitness_ave, fitness_std = get_average_and_std(fitness_arr)\n",
    "    \n",
    "    return fitness_ave, fitness_std, precision_ave, precision_std, generalization_ave, generalization_std"
   ]
  },
  {
   "cell_type": "code",
   "execution_count": 6,
   "id": "27922a19",
   "metadata": {},
   "outputs": [],
   "source": [
    "def get_relaxed_fitness(occ_each_trvar_sim, occ_each_trvar_tr):\n",
    "    fit = 0\n",
    "    for i in range(0, len(occ_each_trvar_sim)):\n",
    "        if occ_each_trvar_sim[i] > 0:\n",
    "            fit = fit + occ_each_trvar_tr[i]\n",
    "    fit = fit/sum(occ_each_trvar_tr)\n",
    "    return fit\n",
    "\n",
    "def get_relaxed_precision(occ_each_simvar_sim, occ_each_simvar_trte):\n",
    "    prec = 0\n",
    "    for i in range(0, len(occ_each_simvar_trte)):\n",
    "        if occ_each_simvar_trte[i] > 0:\n",
    "            prec = prec + occ_each_simvar_sim[i]\n",
    "    prec = prec/sum(occ_each_simvar_sim)\n",
    "    return prec\n",
    "\n",
    "def get_relaxed_generalization(occ_each_tevar_sim, occ_each_tevar_te):\n",
    "    gen = 0.0\n",
    "    for i in range(0, len(occ_each_tevar_sim)):\n",
    "        if occ_each_tevar_sim[i] > 0:\n",
    "            gen = gen + occ_each_tevar_te[i]\n",
    "    gen = gen/sum(occ_each_tevar_te)\n",
    "    return gen\n",
    "\n",
    "\n",
    "def Relaxed_LOVOCV(modelname):\n",
    "    variants = import_log('Variants/CSV/Variants_'+modelname+'.csv')\n",
    "    traintestlog = import_log('Full_Logs/CSV/Log_'+modelname+'.csv')\n",
    "    \n",
    "    overall_counts = get_counts(traintestlog, variants) #list for the count of each variant in original log\n",
    "    \n",
    "    fitness_arr = []\n",
    "    precision_arr = []\n",
    "    generalization_arr = []\n",
    "    \n",
    "    for i_var in range(0, len(variants)):\n",
    "        train_log = import_log('LOVOCV/'+modelname+'/Training_Logs/Train'+str(i_var)+\".csv\")\n",
    "        test_log = import_log('LOVOCV/'+modelname+'/Test_Logs/Test'+str(i_var)+\".csv\")\n",
    "        sim_log = import_log('LOVOCV/'+modelname+'/Simulated_Logs/Sim'+str(i_var)+\".csv\")\n",
    "        \n",
    "        #needed to calculate metrics\n",
    "        trvar = get_variants_list(train_log)\n",
    "        simvar = get_variants_list(sim_log)\n",
    "        tevar = get_variants_list(test_log) \n",
    "        \n",
    "        occ_each_trvar_sim = get_counts(sim_log, trvar)\n",
    "        occ_each_tevar_sim = get_counts(sim_log, tevar)\n",
    "        occ_each_simvar_sim = get_counts(sim_log, simvar)\n",
    "        \n",
    "        #get counts for the train log\n",
    "        occ_each_trvar_tr = get_counts(train_log, trvar)\n",
    "\n",
    "        #get counts for the test log\n",
    "        occ_each_tevar_te = get_counts(test_log, tevar)\n",
    "\n",
    "        #get counts for the train test log\n",
    "        occ_each_simvar_trte = get_counts(traintestlog, simvar)\n",
    "\n",
    "        fitness_arr.append(get_relaxed_fitness(occ_each_trvar_sim, occ_each_trvar_tr))\n",
    "        precision_arr.append(get_relaxed_precision(occ_each_simvar_sim, occ_each_simvar_trte))\n",
    "        generalization_arr.append(get_relaxed_generalization(occ_each_tevar_sim, occ_each_tevar_te))\n",
    "    \n",
    "    generalization_ave, generalization_std = get_average_and_std(generalization_arr)\n",
    "    precision_ave, precision_std = get_average_and_std(precision_arr)\n",
    "    fitness_ave, fitness_std = get_average_and_std(fitness_arr)\n",
    "    \n",
    "    return fitness_ave, fitness_std, precision_ave, precision_std, generalization_ave, generalization_std    "
   ]
  },
  {
   "cell_type": "code",
   "execution_count": null,
   "id": "90e24e51",
   "metadata": {},
   "outputs": [],
   "source": []
  },
  {
   "cell_type": "code",
   "execution_count": 7,
   "id": "88721aef",
   "metadata": {},
   "outputs": [
    {
     "name": "stdout",
     "output_type": "stream",
     "text": [
      "(0.9434824035254169, 0.003814911380181415, 0.9425604166666662, 0.003648669265174541, 0.838107257173785, 0.11298382482617117)\n"
     ]
    }
   ],
   "source": [
    "print(LOVOCV('Model1'))"
   ]
  },
  {
   "cell_type": "code",
   "execution_count": 8,
   "id": "fdfeaeeb",
   "metadata": {},
   "outputs": [
    {
     "name": "stdout",
     "output_type": "stream",
     "text": [
      "(0.9419887144057115, 0.003588618589880502, 0.9417407226562498, 0.003576039807724661, 0.9151766853341539, 0.08741317285643475)\n"
     ]
    }
   ],
   "source": [
    "print(LOVOCV('Model2'))"
   ]
  },
  {
   "cell_type": "code",
   "execution_count": 9,
   "id": "dbab4e07",
   "metadata": {},
   "outputs": [
    {
     "name": "stdout",
     "output_type": "stream",
     "text": [
      "(0.9438307699742784, 0.003393662311613891, 0.9435296630859372, 0.003528518755011565, 0.9116449939885665, 0.09709693944921975)\n"
     ]
    }
   ],
   "source": [
    "print(LOVOCV('Model3'))"
   ]
  },
  {
   "cell_type": "code",
   "execution_count": 10,
   "id": "3a0a5b87",
   "metadata": {},
   "outputs": [
    {
     "name": "stdout",
     "output_type": "stream",
     "text": [
      "(0.9239855524734958, 0.0075794129233915635, 0.9201074218750003, 0.009219942711047093, 0.7085783137478495, 0.13618040934169812)\n"
     ]
    }
   ],
   "source": [
    "print(LOVOCV('Model4'))"
   ]
  },
  {
   "cell_type": "code",
   "execution_count": 11,
   "id": "bf9bec35",
   "metadata": {},
   "outputs": [
    {
     "name": "stdout",
     "output_type": "stream",
     "text": [
      "(0.9007110753456445, 0.009274843741363092, 0.8979138321995467, 0.009524925104730679, 0.6747360678994965, 0.21257192074029777)\n"
     ]
    }
   ],
   "source": [
    "print(LOVOCV('Model5'))"
   ]
  },
  {
   "cell_type": "code",
   "execution_count": 12,
   "id": "bcebef38",
   "metadata": {},
   "outputs": [
    {
     "name": "stdout",
     "output_type": "stream",
     "text": [
      "(0.8561908793042657, 0.024030686233839627, 0.8529492455418376, 0.024692149401689633, 0.8649942842590461, 0.20762063073014608)\n"
     ]
    }
   ],
   "source": [
    "print(LOVOCV('Model6'))"
   ]
  },
  {
   "cell_type": "code",
   "execution_count": null,
   "id": "19619002",
   "metadata": {},
   "outputs": [],
   "source": []
  },
  {
   "cell_type": "code",
   "execution_count": 13,
   "id": "29cfea79",
   "metadata": {},
   "outputs": [
    {
     "name": "stdout",
     "output_type": "stream",
     "text": [
      "(1.0, 0.0, 0.592817309845936, 0.040743252436084926, 1.0, 0.0)\n"
     ]
    }
   ],
   "source": [
    "print(Abs_LOVOCV('Model1'))"
   ]
  },
  {
   "cell_type": "code",
   "execution_count": 14,
   "id": "5d291b68",
   "metadata": {},
   "outputs": [
    {
     "name": "stdout",
     "output_type": "stream",
     "text": [
      "(1.0, 0.0, 0.7022721243451426, 0.038507781830217094, 1.0, 0.0)\n"
     ]
    }
   ],
   "source": [
    "print(Abs_LOVOCV('Model2'))"
   ]
  },
  {
   "cell_type": "code",
   "execution_count": 15,
   "id": "612e97ab",
   "metadata": {},
   "outputs": [
    {
     "name": "stdout",
     "output_type": "stream",
     "text": [
      "(1.0, 0.0, 0.828526207636802, 0.06168067083875466, 1.0, 0.0)\n"
     ]
    }
   ],
   "source": [
    "print(Abs_LOVOCV('Model3'))"
   ]
  },
  {
   "cell_type": "code",
   "execution_count": 16,
   "id": "caac6097",
   "metadata": {},
   "outputs": [
    {
     "name": "stdout",
     "output_type": "stream",
     "text": [
      "(1.0, 0.0, 0.36387977912628505, 0.04203203823115827, 1.0, 0.0)\n"
     ]
    }
   ],
   "source": [
    "print(Abs_LOVOCV('Model4'))"
   ]
  },
  {
   "cell_type": "code",
   "execution_count": 17,
   "id": "3b74053c",
   "metadata": {},
   "outputs": [
    {
     "name": "stdout",
     "output_type": "stream",
     "text": [
      "(1.0, 0.0, 0.24589466628219733, 0.056336116885143055, 1.0, 0.0)\n"
     ]
    }
   ],
   "source": [
    "print(Abs_LOVOCV('Model5'))"
   ]
  },
  {
   "cell_type": "code",
   "execution_count": 18,
   "id": "96b51c06",
   "metadata": {
    "scrolled": true
   },
   "outputs": [
    {
     "name": "stdout",
     "output_type": "stream",
     "text": [
      "(0.7380952380952382, 0.036767142673781554, 0.6289286209405094, 0.04321359919758086, 1.0, 0.0)\n"
     ]
    }
   ],
   "source": [
    "print(Abs_LOVOCV('Model6'))"
   ]
  },
  {
   "cell_type": "code",
   "execution_count": null,
   "id": "baab7e67",
   "metadata": {},
   "outputs": [],
   "source": []
  },
  {
   "cell_type": "code",
   "execution_count": 19,
   "id": "78d32d78",
   "metadata": {},
   "outputs": [
    {
     "name": "stdout",
     "output_type": "stream",
     "text": [
      "(1.0, 0.0, 0.9925361111111112, 0.0014195157268760438, 1.0, 0.0)\n"
     ]
    }
   ],
   "source": [
    "print(Relaxed_LOVOCV('Model1'))"
   ]
  },
  {
   "cell_type": "code",
   "execution_count": 20,
   "id": "44fa01f7",
   "metadata": {},
   "outputs": [
    {
     "name": "stdout",
     "output_type": "stream",
     "text": [
      "(1.0, 0.0, 0.9956884765624999, 0.0007988152088445702, 1.0, 0.0)\n"
     ]
    }
   ],
   "source": [
    "print(Relaxed_LOVOCV('Model2'))"
   ]
  },
  {
   "cell_type": "code",
   "execution_count": 21,
   "id": "44158c49",
   "metadata": {},
   "outputs": [
    {
     "name": "stdout",
     "output_type": "stream",
     "text": [
      "(1.0, 0.0, 0.9978314208984371, 0.0010187549294445124, 1.0, 0.0)\n"
     ]
    }
   ],
   "source": [
    "print(Relaxed_LOVOCV('Model3'))"
   ]
  },
  {
   "cell_type": "code",
   "execution_count": 22,
   "id": "29b5341f",
   "metadata": {},
   "outputs": [
    {
     "name": "stdout",
     "output_type": "stream",
     "text": [
      "(1.0, 0.0, 0.9654394531249998, 0.007285332867741843, 1.0, 0.0)\n"
     ]
    }
   ],
   "source": [
    "print(Relaxed_LOVOCV('Model4'))"
   ]
  },
  {
   "cell_type": "code",
   "execution_count": 23,
   "id": "715154ae",
   "metadata": {},
   "outputs": [
    {
     "name": "stdout",
     "output_type": "stream",
     "text": [
      "(1.0, 0.0, 0.9608843537414965, 0.010472682020909556, 1.0, 0.0)\n"
     ]
    }
   ],
   "source": [
    "print(Relaxed_LOVOCV('Model5'))"
   ]
  },
  {
   "cell_type": "code",
   "execution_count": 24,
   "id": "a269d64c",
   "metadata": {
    "scrolled": true
   },
   "outputs": [
    {
     "name": "stdout",
     "output_type": "stream",
     "text": [
      "(0.9701992143813984, 0.00560463634003266, 0.9519890260631001, 0.011495785661841116, 1.0, 0.0)\n"
     ]
    }
   ],
   "source": [
    "print(Relaxed_LOVOCV('Model6'))"
   ]
  },
  {
   "cell_type": "code",
   "execution_count": null,
   "id": "fbccf001",
   "metadata": {},
   "outputs": [],
   "source": []
  },
  {
   "cell_type": "code",
   "execution_count": null,
   "id": "a67c88d7",
   "metadata": {},
   "outputs": [],
   "source": []
  }
 ],
 "metadata": {
  "kernelspec": {
   "display_name": "Python 3 (ipykernel)",
   "language": "python",
   "name": "python3"
  },
  "language_info": {
   "codemirror_mode": {
    "name": "ipython",
    "version": 3
   },
   "file_extension": ".py",
   "mimetype": "text/x-python",
   "name": "python",
   "nbconvert_exporter": "python",
   "pygments_lexer": "ipython3",
   "version": "3.8.8"
  }
 },
 "nbformat": 4,
 "nbformat_minor": 5
}
