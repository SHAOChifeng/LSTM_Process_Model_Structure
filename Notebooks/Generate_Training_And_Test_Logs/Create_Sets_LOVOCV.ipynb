{
 "cells": [
  {
   "cell_type": "code",
   "execution_count": 16,
   "id": "e9c99be0",
   "metadata": {},
   "outputs": [],
   "source": [
    "import pandas as pd"
   ]
  },
  {
   "cell_type": "code",
   "execution_count": 17,
   "id": "0de3c7ba",
   "metadata": {},
   "outputs": [],
   "source": [
    "def save_log(loglist, filename): #save a list of lists \n",
    "    df = pd.DataFrame.from_records(loglist)\n",
    "    df.to_csv(filename, index=False)"
   ]
  },
  {
   "cell_type": "code",
   "execution_count": 18,
   "id": "1bcc7235",
   "metadata": {},
   "outputs": [],
   "source": [
    "def remove_nan(lists):\n",
    "    newlists = []\n",
    "    for tr in lists:\n",
    "        newlists.append([int(x) for x in tr if str(x) != 'nan'])\n",
    "    return(newlists)\n",
    "\n",
    "def import_log(filepath):\n",
    "    df = pd.read_csv(filepath)\n",
    "    return(remove_nan(df.values.tolist()))\n",
    "\n",
    "def count_variant(log, variant): #count how many times a variant comes up in list\n",
    "    c = 0\n",
    "    for trace in log:\n",
    "        if trace == variant:\n",
    "            c += 1\n",
    "    return(c)\n",
    "\n",
    "def get_counts(log, variants):\n",
    "    counts = []\n",
    "    for var in variants:\n",
    "        counts.append(count_variant(log, var))\n",
    "    return counts\n",
    "\n",
    "def return_train_test(log, variant): #remove a variant from a log and return new log\n",
    "    return([trace for trace in log if trace != variant], [trace for trace in log if trace == variant])\n"
   ]
  },
  {
   "cell_type": "code",
   "execution_count": 19,
   "id": "1d89240c",
   "metadata": {},
   "outputs": [],
   "source": [
    "def create_logs(modelname):\n",
    "    variants = import_log(\"Variants/CSV/Variants_\"+modelname+\".csv\")\n",
    "    full_log = import_log(\"Full_Logs/CSV/Log_\"+modelname+\".csv\")\n",
    "    \n",
    "    print(sorted(get_counts(full_log, variants))) #quick check\n",
    "    \n",
    "    for i in range(len(variants)):\n",
    "        train, test = return_train_test(full_log, variants[i])\n",
    "        save_log(train, \"LOVOCV/\"+modelname+\"/Training_Logs/Train\"+str(i)+\".csv\")\n",
    "        save_log(test, \"LOVOCV/\"+modelname+\"/Test_Logs/Test\"+str(i)+\".csv\")\n",
    "    \n",
    "    "
   ]
  },
  {
   "cell_type": "code",
   "execution_count": 20,
   "id": "35d4687e",
   "metadata": {},
   "outputs": [
    {
     "name": "stdout",
     "output_type": "stream",
     "text": [
      "[77, 83, 83, 85, 85, 85, 86, 86, 87, 88, 88, 89, 90, 90, 91, 92, 92, 92, 92, 92, 93, 93, 93, 93, 93, 93, 93, 93, 93, 93, 93, 93, 93, 94, 94, 95, 95, 95, 95, 95, 95, 95, 96, 96, 96, 96, 97, 97, 97, 97, 97, 97, 98, 98, 98, 98, 98, 98, 99, 99, 99, 99, 99, 99, 100, 100, 100, 100, 101, 101, 101, 101, 101, 102, 102, 102, 103, 103, 103, 103, 103, 103, 104, 104, 104, 104, 104, 105, 105, 105, 106, 106, 107, 107, 109, 109, 109, 110, 110, 110, 110, 110, 111, 112, 112, 113, 113, 113, 113, 113, 114, 114, 114, 114, 114, 114, 116, 119, 120, 131]\n"
     ]
    }
   ],
   "source": [
    "create_logs('Model1')"
   ]
  },
  {
   "cell_type": "code",
   "execution_count": 21,
   "id": "88b85438",
   "metadata": {},
   "outputs": [
    {
     "name": "stdout",
     "output_type": "stream",
     "text": [
      "[78, 83, 84, 84, 84, 85, 85, 85, 85, 86, 86, 86, 87, 87, 87, 88, 88, 88, 88, 89, 89, 89, 90, 90, 91, 91, 91, 93, 93, 93, 93, 94, 94, 94, 95, 95, 95, 95, 95, 96, 96, 96, 96, 96, 97, 97, 97, 97, 97, 97, 98, 98, 98, 98, 98, 98, 98, 98, 98, 99, 99, 99, 99, 99, 99, 99, 99, 99, 100, 100, 100, 100, 101, 101, 101, 101, 102, 102, 102, 102, 103, 103, 103, 103, 104, 104, 104, 104, 104, 105, 105, 105, 106, 106, 107, 107, 107, 107, 107, 107, 108, 108, 109, 109, 109, 109, 110, 110, 110, 111, 112, 112, 112, 113, 113, 113, 114, 114, 114, 114, 115, 115, 116, 116, 117, 120, 126, 130]\n"
     ]
    }
   ],
   "source": [
    "create_logs('Model2')"
   ]
  },
  {
   "cell_type": "code",
   "execution_count": 22,
   "id": "3e6e2a29",
   "metadata": {},
   "outputs": [
    {
     "name": "stdout",
     "output_type": "stream",
     "text": [
      "[75, 80, 82, 83, 83, 84, 85, 85, 86, 86, 87, 87, 87, 88, 88, 89, 89, 89, 89, 90, 90, 91, 91, 91, 91, 91, 92, 92, 92, 92, 92, 93, 93, 93, 93, 94, 94, 95, 95, 95, 96, 96, 96, 97, 97, 97, 97, 97, 97, 97, 97, 98, 98, 98, 98, 98, 98, 98, 99, 99, 99, 99, 99, 99, 99, 100, 100, 100, 100, 100, 100, 101, 101, 101, 101, 101, 101, 101, 102, 102, 102, 102, 102, 102, 102, 102, 103, 105, 105, 105, 105, 106, 106, 106, 107, 107, 107, 107, 108, 108, 108, 109, 109, 109, 110, 110, 110, 110, 110, 111, 111, 111, 112, 112, 113, 113, 114, 114, 114, 114, 114, 117, 119, 120, 121, 121, 122, 129]\n"
     ]
    }
   ],
   "source": [
    "create_logs('Model3')"
   ]
  },
  {
   "cell_type": "code",
   "execution_count": 23,
   "id": "d2046d5a",
   "metadata": {},
   "outputs": [
    {
     "name": "stdout",
     "output_type": "stream",
     "text": [
      "[23, 26, 28, 30, 30, 31, 34, 37, 47, 50, 51, 52, 53, 54, 54, 55, 55, 56, 57, 58, 60, 61, 61, 62, 62, 63, 65, 66, 66, 69, 72, 79, 104, 105, 107, 110, 112, 113, 114, 114, 115, 115, 115, 116, 117, 118, 119, 120, 120, 122, 122, 122, 123, 126, 128, 131, 217, 218, 228, 229, 244, 250, 265, 274]\n"
     ]
    }
   ],
   "source": [
    "create_logs('Model4')"
   ]
  },
  {
   "cell_type": "code",
   "execution_count": 24,
   "id": "41e14c94",
   "metadata": {},
   "outputs": [
    {
     "name": "stdout",
     "output_type": "stream",
     "text": [
      "[32, 33, 34, 35, 37, 38, 38, 38, 39, 39, 39, 41, 42, 43, 43, 43, 44, 44, 44, 45, 45, 46, 46, 46, 47, 48, 48, 49, 49, 49, 49, 50, 50, 50, 51, 51, 51, 51, 52, 52, 52, 52, 52, 53, 53, 53, 53, 55, 55, 55, 56, 56, 57, 57, 59, 59, 59, 60, 60, 60, 60, 61, 61, 61, 62, 62, 63, 64, 66, 68, 76, 81, 85, 87, 89, 91, 92, 92, 92, 93, 94, 94, 94, 95, 95, 96, 96, 97, 97, 97, 97, 98, 99, 100, 101, 101, 102, 104, 107, 109, 110, 110, 112, 114, 114, 173, 184, 187, 188, 189, 190, 194, 197, 198, 200, 203, 204, 205, 207, 220, 379, 392, 400, 407, 412, 745]\n"
     ]
    }
   ],
   "source": [
    "create_logs('Model5')"
   ]
  },
  {
   "cell_type": "code",
   "execution_count": 25,
   "id": "0b299b4c",
   "metadata": {},
   "outputs": [
    {
     "name": "stdout",
     "output_type": "stream",
     "text": [
      "[6, 8, 8, 15, 16, 18, 22, 22, 23, 24, 31, 40, 40, 40, 41, 43, 53, 74, 80, 81, 84, 90, 98, 160, 166, 184, 336]\n"
     ]
    }
   ],
   "source": [
    "create_logs('Model6')"
   ]
  },
  {
   "cell_type": "code",
   "execution_count": null,
   "id": "f0652a62",
   "metadata": {},
   "outputs": [],
   "source": []
  }
 ],
 "metadata": {
  "kernelspec": {
   "display_name": "Python 3 (ipykernel)",
   "language": "python",
   "name": "python3"
  },
  "language_info": {
   "codemirror_mode": {
    "name": "ipython",
    "version": 3
   },
   "file_extension": ".py",
   "mimetype": "text/x-python",
   "name": "python",
   "nbconvert_exporter": "python",
   "pygments_lexer": "ipython3",
   "version": "3.8.8"
  }
 },
 "nbformat": 4,
 "nbformat_minor": 5
}
