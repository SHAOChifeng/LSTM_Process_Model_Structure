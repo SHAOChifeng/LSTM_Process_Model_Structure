{
 "cells": [
  {
   "cell_type": "markdown",
   "id": "fec778cd",
   "metadata": {},
   "source": [
    "# Play-out\n"
   ]
  },
  {
   "cell_type": "code",
   "execution_count": 1,
   "id": "f74f2392",
   "metadata": {},
   "outputs": [],
   "source": [
    "from pm4py.algo.simulation.playout.petri_net import algorithm as simulator\n",
    "\n",
    "from pm4py.objects.petri_net.importer import importer as pnml_importer\n",
    "\n",
    "from pm4py.objects.log.exporter.xes import exporter as xes_exporter\n",
    "\n",
    "from pm4py.objects.conversion.wf_net import converter as wf_net_converter\n",
    "\n",
    "from pm4py.algo.filtering.log.end_activities import end_activities_filter\n",
    "\n",
    "\n",
    "import pandas as pd\n",
    "\n",
    "import json\n",
    "\n",
    "from pm4py.algo.simulation.playout.process_tree import algorithm as tree_playout\n",
    "\n",
    "from pm4py.objects.log.importer.xes import importer as xes_importer\n"
   ]
  },
  {
   "cell_type": "code",
   "execution_count": 2,
   "id": "225f9ce4",
   "metadata": {},
   "outputs": [],
   "source": [
    "def get_alphabet(net):\n",
    "    activities = list({a.label for a in net.transitions if a.label and not '_' in a.label})\n",
    "    return activities\n",
    "\n",
    "def get_integer_map_net(net):\n",
    "    return {x: i+1 for i,x in enumerate(get_alphabet(net))}\n",
    "\n",
    "def log_to_list(log):\n",
    "    return [[a['concept:name'] for a in t] for t in log]\n",
    "\n",
    "def apply_integer_map(log, map):\n",
    "    return [[map[a] for a in t] for t in log]\n",
    "\n",
    "def save_log(loglist, filename): #save a list of lists \n",
    "    df = pd.DataFrame.from_records(loglist)\n",
    "    df.to_csv(filename, index=False)\n",
    "    \n",
    "def add_BOS_EOS(loglist):\n",
    "    new_log = []\n",
    "    for i in range(0, len(loglist)):\n",
    "        new_trace = ['BOS']\n",
    "        for j in range(0, len(loglist[i])):\n",
    "            new_trace.append(loglist[i][j])\n",
    "        new_trace.append('EOS')\n",
    "        new_log.append(new_trace)\n",
    "    return new_log\n",
    "\n",
    "def add_BOS_EOS_to_mapping(mapping):\n",
    "    all_values = mapping.values()\n",
    "    max_value = max(all_values)\n",
    "    mapping[\"BOS\"]= max_value + 1 \n",
    "    mapping[\"EOS\"]= max_value + 2 \n",
    "    return mapping\n",
    "    \n",
    "    "
   ]
  },
  {
   "cell_type": "code",
   "execution_count": 3,
   "id": "875a32f3",
   "metadata": {},
   "outputs": [],
   "source": [
    "def read_out_and_play_out(PN_filename, traces_per_variant):\n",
    "    \n",
    "    \n",
    "    net, im, fm = pnml_importer.apply(\"Nets/\"+PN_filename+\".pnml\")\n",
    "\n",
    "    variants = simulator.apply(net, im, variant=simulator.Variants.EXTENSIVE, \n",
    "                               parameters={simulator.Variants.EXTENSIVE.value.Parameters.MAX_TRACE_LENGTH: 100,\n",
    "                                          simulator.Variants.EXTENSIVE.value.Parameters.MAX_MARKING_OCC: 3})\n",
    "    \n",
    "    xes_exporter.apply(variants, \"Variants/XES/Variants_\"+PN_filename+\".xes\")\n",
    "    \n",
    "    number_of_variants = len(variants)\n",
    "    print(number_of_variants)\n",
    "    \n",
    "    number_of_traces = number_of_variants * traces_per_variant\n",
    "    \n",
    "    simulated_log = simulated_log = simulator.apply(net, im, variant=simulator.Variants.BASIC_PLAYOUT, \n",
    "                                                    parameters={simulator.Variants.BASIC_PLAYOUT.value.Parameters.NO_TRACES: number_of_traces})\n",
    "    print(len(simulated_log))\n",
    "    \n",
    "    xes_exporter.apply(simulated_log, \"Full_Logs/XES/Log_\"+PN_filename+\".xes\")\n",
    "    \n",
    "    mapping = get_integer_map_net(net)\n",
    "    mapping = add_BOS_EOS_to_mapping(mapping)\n",
    "    #save number mapping\n",
    "    mappingfilename = 'Mappings/Mapping_'+PN_filename+'.txt'  \n",
    "    with open(mappingfilename, 'w') as f:\n",
    "        f.write(json.dumps(mapping))\n",
    "        \n",
    "    var_list = apply_integer_map(add_BOS_EOS(log_to_list(variants)), mapping)\n",
    "    save_log(var_list, \"Variants/CSV/Variants_\"+PN_filename+\".csv\")\n",
    "    log_list = apply_integer_map(add_BOS_EOS(log_to_list(simulated_log)), mapping)\n",
    "    save_log(log_list, \"Full_Logs/CSV/Log_\"+PN_filename+\".csv\")\n",
    "    \n",
    "    "
   ]
  },
  {
   "cell_type": "code",
   "execution_count": 4,
   "id": "ba54e146",
   "metadata": {},
   "outputs": [],
   "source": [
    "def fix_variants_IOR(log):\n",
    "    end_activities = end_activities_filter.get_end_activities(log)\n",
    "    filtered_log = end_activities_filter.apply(log, [\"O\"])\n",
    "    return(filtered_log)"
   ]
  },
  {
   "cell_type": "code",
   "execution_count": 5,
   "id": "eae3bccf",
   "metadata": {},
   "outputs": [],
   "source": [
    "def read_out_and_play_out_model4(PN_filename, traces_per_variant):\n",
    "    \n",
    "    \n",
    "    net, im, fm = pnml_importer.apply(\"Nets/\"+PN_filename+\".pnml\")\n",
    "\n",
    "    variants = simulator.apply(net, im, variant=simulator.Variants.EXTENSIVE, \n",
    "                               parameters={simulator.Variants.EXTENSIVE.value.Parameters.MAX_TRACE_LENGTH: 100,\n",
    "                                          simulator.Variants.EXTENSIVE.value.Parameters.MAX_MARKING_OCC: 3})\n",
    "    print(len(variants))\n",
    "    \n",
    "    variants = fix_variants_IOR(variants)\n",
    "    \n",
    "    xes_exporter.apply(variants, \"Variants/XES/Variants_\"+PN_filename+\".xes\")\n",
    "    \n",
    "    number_of_variants = len(variants)\n",
    "    print(number_of_variants)\n",
    "    \n",
    "    number_of_traces = number_of_variants * traces_per_variant * 10\n",
    "    \n",
    "    simulated_log_dum = simulator.apply(net, im, variant=simulator.Variants.BASIC_PLAYOUT, \n",
    "                                        parameters={simulator.Variants.BASIC_PLAYOUT.value.Parameters.NO_TRACES: number_of_traces})\n",
    "    \n",
    "    print(len(simulated_log_dum))\n",
    "    \n",
    "    simulated_log_dum = fix_variants_IOR(simulated_log_dum)\n",
    "    print(len(simulated_log_dum))\n",
    "    print(type(simulated_log_dum))\n",
    "    \n",
    "    xes_exporter.apply(simulated_log_dum, \"dum.xes\")\n",
    "    \n",
    "    number_of_traces = number_of_variants * traces_per_variant\n",
    "    \n",
    "    variant = xes_importer.Variants.ITERPARSE\n",
    "    parameters = {variant.value.Parameters.TIMESTAMP_SORT: True, variant.value.Parameters.MAX_TRACES: number_of_traces}\n",
    "    simulated_log = xes_importer.apply(\"dum.xes\",variant=variant, parameters=parameters)\n",
    "\n",
    "    #simulated_log = simulated_log_dum[0:number_of_traces]\n",
    "    \n",
    "    print(len(simulated_log))\n",
    "    print(type(simulated_log))\n",
    "    \n",
    "    \n",
    "    xes_exporter.apply(simulated_log, \"Full_Logs/XES/Log_\"+PN_filename+\".xes\")\n",
    "    \n",
    "    mapping = get_integer_map_net(net)\n",
    "    mapping = add_BOS_EOS_to_mapping(mapping)\n",
    "    #save number mapping\n",
    "    mappingfilename = 'Mappings/Mapping_'+PN_filename+'.txt'  \n",
    "    with open(mappingfilename, 'w') as f:\n",
    "        f.write(json.dumps(mapping))\n",
    "        \n",
    "    var_list = apply_integer_map(add_BOS_EOS(log_to_list(variants)), mapping)\n",
    "    save_log(var_list, \"Variants/CSV/Variants_\"+PN_filename+\".csv\")\n",
    "    log_list = apply_integer_map(add_BOS_EOS(log_to_list(simulated_log)), mapping)\n",
    "    save_log(log_list, \"Full_Logs/CSV/Log_\"+PN_filename+\".csv\")\n",
    "    "
   ]
  },
  {
   "cell_type": "code",
   "execution_count": 6,
   "id": "715344cd",
   "metadata": {},
   "outputs": [
    {
     "data": {
      "application/vnd.jupyter.widget-view+json": {
       "model_id": "19e9a446b6af4925bdeab13ecefeb96a",
       "version_major": 2,
       "version_minor": 0
      },
      "text/plain": [
       "exporting log, completed traces ::   0%|          | 0/120 [00:00<?, ?it/s]"
      ]
     },
     "metadata": {},
     "output_type": "display_data"
    },
    {
     "name": "stdout",
     "output_type": "stream",
     "text": [
      "120\n",
      "12000\n"
     ]
    },
    {
     "data": {
      "application/vnd.jupyter.widget-view+json": {
       "model_id": "04bd78cfdaab46259be6713a43965832",
       "version_major": 2,
       "version_minor": 0
      },
      "text/plain": [
       "exporting log, completed traces ::   0%|          | 0/12000 [00:00<?, ?it/s]"
      ]
     },
     "metadata": {},
     "output_type": "display_data"
    }
   ],
   "source": [
    "read_out_and_play_out('Model1', 100)"
   ]
  },
  {
   "cell_type": "code",
   "execution_count": 7,
   "id": "d7d6c293",
   "metadata": {},
   "outputs": [
    {
     "data": {
      "application/vnd.jupyter.widget-view+json": {
       "model_id": "ba36994b2d9c42bfa1eb817979f271c3",
       "version_major": 2,
       "version_minor": 0
      },
      "text/plain": [
       "exporting log, completed traces ::   0%|          | 0/128 [00:00<?, ?it/s]"
      ]
     },
     "metadata": {},
     "output_type": "display_data"
    },
    {
     "name": "stdout",
     "output_type": "stream",
     "text": [
      "128\n",
      "12800\n"
     ]
    },
    {
     "data": {
      "application/vnd.jupyter.widget-view+json": {
       "model_id": "79bdc3b79a9b4ee89ed1290ebbc9e8d5",
       "version_major": 2,
       "version_minor": 0
      },
      "text/plain": [
       "exporting log, completed traces ::   0%|          | 0/12800 [00:00<?, ?it/s]"
      ]
     },
     "metadata": {},
     "output_type": "display_data"
    }
   ],
   "source": [
    "read_out_and_play_out('Model2', 100)"
   ]
  },
  {
   "cell_type": "code",
   "execution_count": 8,
   "id": "df1f32aa",
   "metadata": {},
   "outputs": [
    {
     "data": {
      "application/vnd.jupyter.widget-view+json": {
       "model_id": "4d75c2c040d7420f96264313258635e0",
       "version_major": 2,
       "version_minor": 0
      },
      "text/plain": [
       "exporting log, completed traces ::   0%|          | 0/128 [00:00<?, ?it/s]"
      ]
     },
     "metadata": {},
     "output_type": "display_data"
    },
    {
     "name": "stdout",
     "output_type": "stream",
     "text": [
      "128\n",
      "12800\n"
     ]
    },
    {
     "data": {
      "application/vnd.jupyter.widget-view+json": {
       "model_id": "914fb1b90c8442bc9679bef9c0cedf2e",
       "version_major": 2,
       "version_minor": 0
      },
      "text/plain": [
       "exporting log, completed traces ::   0%|          | 0/12800 [00:00<?, ?it/s]"
      ]
     },
     "metadata": {},
     "output_type": "display_data"
    }
   ],
   "source": [
    "read_out_and_play_out('Model3', 100)"
   ]
  },
  {
   "cell_type": "code",
   "execution_count": 9,
   "id": "0e90c614",
   "metadata": {},
   "outputs": [
    {
     "name": "stdout",
     "output_type": "stream",
     "text": [
      "85\n"
     ]
    },
    {
     "data": {
      "application/vnd.jupyter.widget-view+json": {
       "model_id": "5ccf63d021774770b34bca09026e71c3",
       "version_major": 2,
       "version_minor": 0
      },
      "text/plain": [
       "exporting log, completed traces ::   0%|          | 0/64 [00:00<?, ?it/s]"
      ]
     },
     "metadata": {},
     "output_type": "display_data"
    },
    {
     "name": "stdout",
     "output_type": "stream",
     "text": [
      "64\n",
      "64000\n",
      "27043\n",
      "<class 'pm4py.objects.log.obj.EventLog'>\n"
     ]
    },
    {
     "data": {
      "application/vnd.jupyter.widget-view+json": {
       "model_id": "25d2fa7aa6d64afe9e02a54c997acc6c",
       "version_major": 2,
       "version_minor": 0
      },
      "text/plain": [
       "exporting log, completed traces ::   0%|          | 0/27043 [00:00<?, ?it/s]"
      ]
     },
     "metadata": {},
     "output_type": "display_data"
    },
    {
     "data": {
      "application/vnd.jupyter.widget-view+json": {
       "model_id": "561146bdf7014ab5bb4120946113a93a",
       "version_major": 2,
       "version_minor": 0
      },
      "text/plain": [
       "parsing log, completed traces ::   0%|          | 0/27043 [00:00<?, ?it/s]"
      ]
     },
     "metadata": {},
     "output_type": "display_data"
    },
    {
     "name": "stdout",
     "output_type": "stream",
     "text": [
      "6400\n",
      "<class 'pm4py.objects.log.obj.EventLog'>\n"
     ]
    },
    {
     "data": {
      "application/vnd.jupyter.widget-view+json": {
       "model_id": "d6d365d0e5ca4e189ff85af4dffb8333",
       "version_major": 2,
       "version_minor": 0
      },
      "text/plain": [
       "exporting log, completed traces ::   0%|          | 0/6400 [00:00<?, ?it/s]"
      ]
     },
     "metadata": {},
     "output_type": "display_data"
    }
   ],
   "source": [
    "read_out_and_play_out_model4('Model4', 100)"
   ]
  },
  {
   "cell_type": "code",
   "execution_count": 10,
   "id": "9b73668d",
   "metadata": {},
   "outputs": [
    {
     "data": {
      "application/vnd.jupyter.widget-view+json": {
       "model_id": "66113f8066194b578bd97ffb940c2b3d",
       "version_major": 2,
       "version_minor": 0
      },
      "text/plain": [
       "exporting log, completed traces ::   0%|          | 0/126 [00:00<?, ?it/s]"
      ]
     },
     "metadata": {},
     "output_type": "display_data"
    },
    {
     "name": "stdout",
     "output_type": "stream",
     "text": [
      "126\n",
      "12600\n"
     ]
    },
    {
     "data": {
      "application/vnd.jupyter.widget-view+json": {
       "model_id": "1170f8f496eb468c9bcfc319550252ad",
       "version_major": 2,
       "version_minor": 0
      },
      "text/plain": [
       "exporting log, completed traces ::   0%|          | 0/12600 [00:00<?, ?it/s]"
      ]
     },
     "metadata": {},
     "output_type": "display_data"
    }
   ],
   "source": [
    "read_out_and_play_out('Model5', 100)"
   ]
  },
  {
   "cell_type": "code",
   "execution_count": 12,
   "id": "8407f7af",
   "metadata": {},
   "outputs": [
    {
     "data": {
      "application/vnd.jupyter.widget-view+json": {
       "model_id": "dc2c8851a2ae475e94735d15c0f16a79",
       "version_major": 2,
       "version_minor": 0
      },
      "text/plain": [
       "exporting log, completed traces ::   0%|          | 0/27 [00:00<?, ?it/s]"
      ]
     },
     "metadata": {},
     "output_type": "display_data"
    },
    {
     "name": "stdout",
     "output_type": "stream",
     "text": [
      "27\n",
      "2700\n"
     ]
    },
    {
     "data": {
      "application/vnd.jupyter.widget-view+json": {
       "model_id": "4e38bd19f95c4a2f92c293bb4bb6a99d",
       "version_major": 2,
       "version_minor": 0
      },
      "text/plain": [
       "exporting log, completed traces ::   0%|          | 0/2700 [00:00<?, ?it/s]"
      ]
     },
     "metadata": {},
     "output_type": "display_data"
    }
   ],
   "source": [
    "read_out_and_play_out('Model6', 100)"
   ]
  },
  {
   "cell_type": "code",
   "execution_count": null,
   "id": "8ebea05f",
   "metadata": {},
   "outputs": [],
   "source": []
  }
 ],
 "metadata": {
  "kernelspec": {
   "display_name": "Python 3 (ipykernel)",
   "language": "python",
   "name": "python3"
  },
  "language_info": {
   "codemirror_mode": {
    "name": "ipython",
    "version": 3
   },
   "file_extension": ".py",
   "mimetype": "text/x-python",
   "name": "python",
   "nbconvert_exporter": "python",
   "pygments_lexer": "ipython3",
   "version": "3.8.8"
  }
 },
 "nbformat": 4,
 "nbformat_minor": 5
}
